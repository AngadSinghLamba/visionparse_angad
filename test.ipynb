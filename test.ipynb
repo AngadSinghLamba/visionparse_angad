{
 "cells": [
  {
   "cell_type": "code",
   "execution_count": 1,
   "id": "5d1d5beb",
   "metadata": {},
   "outputs": [
    {
     "name": "stdout",
     "output_type": "stream",
     "text": [
      "                  doc  page_no  \\\n",
      "0  report_10_page.pdf        0   \n",
      "1  report_10_page.pdf        1   \n",
      "2  report_10_page.pdf        2   \n",
      "3  report_10_page.pdf        3   \n",
      "4  report_10_page.pdf        4   \n",
      "\n",
      "                                                text  \\\n",
      "0  Vehicle Identification Number The vehicle iden...   \n",
      "1  Vehicle Emission Control Information Label (U....   \n",
      "2                            Identification Numbers    \n",
      "3                                            Engine    \n",
      "4  Electrical System Lead-acid battery 1 The lead...   \n",
      "\n",
      "                                            markdown  \\\n",
      "0  ## Vehicle Identification Number\\n\\nThe vehicl...   \n",
      "1  ## Vehicle Emission Control Information Label ...   \n",
      "2                                     <!-- image -->   \n",
      "3                                          ## Engine   \n",
      "4  ## Electrical System\\n\\n## Lead-acid battery 1...   \n",
      "\n",
      "                                              doctag  \\\n",
      "0  <document>\\n<subtitle-level-1><location><loc_1...   \n",
      "1  <document>\\n<subtitle-level-1><location><loc_2...   \n",
      "2  <document>\\n<figure>\\n<location><loc_7><loc_63...   \n",
      "3  <document>\\n<subtitle-level-1><location><loc_4...   \n",
      "4  <document>\\n<subtitle-level-1><location><loc_3...   \n",
      "\n",
      "                                               cells  \\\n",
      "0  [{'bbox': [0.4399142489854048, 0.0643397841849...   \n",
      "1  [{'bbox': [0.02114190475715439, 0.064339784184...   \n",
      "2  [{'bbox': [0.4399142489854048, 0.0643397841849...   \n",
      "3  [{'bbox': [0.02114190475715439, 0.064339784184...   \n",
      "4  [{'bbox': [0.4399142489854048, 0.0638124089047...   \n",
      "\n",
      "                                            segments  img_w  img_h  \\\n",
      "0  [{'bbox': [0.09920432232203213, 0.142918700935...    820   1264   \n",
      "1  [{'bbox': [0.022768205123089344, 0.14186395037...    820   1264   \n",
      "2  [{'bbox': [0.06642312920429826, 0.142781401175...    820   1264   \n",
      "3  [{'bbox': [0.4098276922156082, 0.1445008267759...    820   1264   \n",
      "4  [{'bbox': [0.3716096336161368, 0.1429187009353...    820   1264   \n",
      "\n",
      "                                           img_bytes  \n",
      "0  b'\\xff\\xff\\xff\\xff\\xff\\xff\\xff\\xff\\xff\\xff\\xff...  \n",
      "1  b'\\xff\\xff\\xff\\xff\\xff\\xff\\xff\\xff\\xff\\xff\\xff...  \n",
      "2  b'\\xff\\xff\\xff\\xff\\xff\\xff\\xff\\xff\\xff\\xff\\xff...  \n",
      "3  b'\\xff\\xff\\xff\\xff\\xff\\xff\\xff\\xff\\xff\\xff\\xff...  \n",
      "4  b'\\xff\\xff\\xff\\xff\\xff\\xff\\xff\\xff\\xff\\xff\\xff...  \n"
     ]
    }
   ],
   "source": [
    "import pandas as pd\n",
    "df = pd.read_parquet(\"visionparse_multimodal.parquet\")\n",
    "print(df.head())\n"
   ]
  }
 ],
 "metadata": {
  "kernelspec": {
   "display_name": "visionparse",
   "language": "python",
   "name": "python3"
  },
  "language_info": {
   "codemirror_mode": {
    "name": "ipython",
    "version": 3
   },
   "file_extension": ".py",
   "mimetype": "text/x-python",
   "name": "python",
   "nbconvert_exporter": "python",
   "pygments_lexer": "ipython3",
   "version": "3.10.18"
  }
 },
 "nbformat": 4,
 "nbformat_minor": 5
}
